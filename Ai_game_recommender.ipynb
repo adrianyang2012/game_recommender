{
  "nbformat": 4,
  "nbformat_minor": 0,
  "metadata": {
    "colab": {
      "private_outputs": true,
      "provenance": [],
      "authorship_tag": "ABX9TyNRWMVhDtGAaiS4CYxFoIjN",
      "include_colab_link": true
    },
    "kernelspec": {
      "name": "python3",
      "display_name": "Python 3"
    },
    "language_info": {
      "name": "python"
    }
  },
  "cells": [
    {
      "cell_type": "markdown",
      "metadata": {
        "id": "view-in-github",
        "colab_type": "text"
      },
      "source": [
        "<a href=\"https://colab.research.google.com/github/adrianyang2012/game_recommender/blob/main/Ai_game_recommender.ipynb\" target=\"_parent\"><img src=\"https://colab.research.google.com/assets/colab-badge.svg\" alt=\"Open In Colab\"/></a>"
      ]
    },
    {
      "cell_type": "code",
      "source": [
        "!pip install sentence-transformers"
      ],
      "metadata": {
        "id": "xq4wWJRYjFDO"
      },
      "execution_count": null,
      "outputs": []
    },
    {
      "cell_type": "code",
      "source": [
        "from sentence_transformers import SentenceTransformer\n",
        "model = SentenceTransformer(\"all-MiniLM-L6-v2\")"
      ],
      "metadata": {
        "id": "HSKoAQkjjK0k"
      },
      "execution_count": null,
      "outputs": []
    },
    {
      "cell_type": "code",
      "source": [
        "sentences = ['starcraft: a real time stradegy game were you battle others','chess: a classic board game that requires stradegy','minecraft: a sandbox game that helps you be creative','boston tea party game: a game where you learn history','platformer 1: a game where you get through obstacles and spikes']"
      ],
      "metadata": {
        "id": "s-4GelCjjrCH"
      },
      "execution_count": null,
      "outputs": []
    },
    {
      "cell_type": "code",
      "source": [
        "embeddings1 = model.encode(sentences,convert_to_tensor=True)"
      ],
      "metadata": {
        "id": "G-53EzjAkDPu"
      },
      "execution_count": null,
      "outputs": []
    },
    {
      "cell_type": "code",
      "source": [
        "embeddings1"
      ],
      "metadata": {
        "id": "2uoPqgEwkKx1"
      },
      "execution_count": null,
      "outputs": []
    },
    {
      "cell_type": "code",
      "source": [
        "sentences_2 = ['I like stradegy','I like American culture','I like lego']\n"
      ],
      "metadata": {
        "id": "2nloK1rqkUcl"
      },
      "execution_count": null,
      "outputs": []
    },
    {
      "cell_type": "code",
      "source": [
        "embeddings2 = model.encode(sentences_2,convert_to_tensor=True)"
      ],
      "metadata": {
        "id": "w9O_pteNkfTd"
      },
      "execution_count": null,
      "outputs": []
    },
    {
      "cell_type": "code",
      "source": [
        "embeddings2"
      ],
      "metadata": {
        "id": "qGIO4Lp6khel"
      },
      "execution_count": null,
      "outputs": []
    },
    {
      "cell_type": "code",
      "source": [
        "from sentence_transformers import util"
      ],
      "metadata": {
        "id": "72t5Ftrpku9M"
      },
      "execution_count": null,
      "outputs": []
    },
    {
      "cell_type": "code",
      "source": [
        "cosine_scores = util.cos_sim(embeddings2,embeddings1)"
      ],
      "metadata": {
        "id": "47gCjtorkx6e"
      },
      "execution_count": null,
      "outputs": []
    },
    {
      "cell_type": "code",
      "source": [
        "print(cosine_scores)"
      ],
      "metadata": {
        "id": "PL8CT3FHk5as"
      },
      "execution_count": null,
      "outputs": []
    },
    {
      "cell_type": "code",
      "source": [
        "\n",
        "for i in range(0,len(sentences_2)):\n",
        "  best_match = 'none'\n",
        "  best_match_max = -float('inf')\n",
        "  for j in range(0,len(sentences)):\n",
        "    if cosine_scores[i][j] > best_match_max:\n",
        "      best_match = sentences[j]\n",
        "      best_match_max = cosine_scores[i][j]\n",
        "    #print(sentences_2[i],sentences[j],cosine_scores[i][j])\n",
        "  print('prompt: ',sentences_2[i],'       reccomendation: ',best_match)"
      ],
      "metadata": {
        "id": "k2DIDi31lZll"
      },
      "execution_count": null,
      "outputs": []
    },
    {
      "cell_type": "code",
      "source": [],
      "metadata": {
        "id": "Kf6laVyPr01l"
      },
      "execution_count": null,
      "outputs": []
    },
    {
      "cell_type": "code",
      "source": [],
      "metadata": {
        "id": "SM2kEAxkr0zN"
      },
      "execution_count": null,
      "outputs": []
    },
    {
      "cell_type": "markdown",
      "source": [],
      "metadata": {
        "id": "HPT5RSdiln6M"
      }
    }
  ]
}